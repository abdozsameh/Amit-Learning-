{
 "cells": [
  {
   "cell_type": "markdown",
   "metadata": {},
   "source": [
    "### Q1. Write a program to calculate the area of a rectangle with given length and width.\n",
    "    area = length * width"
   ]
  },
  {
   "cell_type": "code",
   "execution_count": 101,
   "metadata": {},
   "outputs": [
    {
     "name": "stdout",
     "output_type": "stream",
     "text": [
      "Area is 21.0\n"
     ]
    }
   ],
   "source": [
    "Length= float(input('Enter the rectangle length:'))\n",
    "Width= float(input('Enter the rectangle width:'))\n",
    "Area= Length*Width\n",
    "print(\"Area is\", end= \" \")\n",
    "print(Area)"
   ]
  },
  {
   "cell_type": "markdown",
   "metadata": {},
   "source": [
    " Q2. Write a program that takes an integer input from the user and prints whether it's even or odd.\n",
    "    Even Numbers: 0, 2, 4, 6, 8, ...\n",
    "    OOD Numbers: 1, 3, 5, 7, 9, ..."
   ]
  },
  {
   "cell_type": "code",
   "execution_count": 100,
   "metadata": {},
   "outputs": [
    {
     "name": "stdout",
     "output_type": "stream",
     "text": [
      "odd\n"
     ]
    }
   ],
   "source": [
    "x= int(input('Enter a number:'))\n",
    "if x % 2== 0 :\n",
    "    print(\"even\")\n",
    "else :\n",
    "    print(\"odd\")"
   ]
  },
  {
   "cell_type": "markdown",
   "metadata": {},
   "source": [
    "### Q3. Write a program that takes a three-digit number as input and calculates the sum of its digits."
   ]
  },
  {
   "cell_type": "code",
   "execution_count": 1,
   "metadata": {},
   "outputs": [
    {
     "name": "stdout",
     "output_type": "stream",
     "text": [
      "the sum is: 6\n"
     ]
    }
   ],
   "source": [
    "x1=input('three digit number')\n",
    "sum= int(x1[0])+int(x1[1])+int(x1[2])\n",
    "if len(x1)!=3 :\n",
    "    print('try again')\n",
    "else:\n",
    "    print(f'the sum is: {sum}')\n"
   ]
  },
  {
   "cell_type": "markdown",
   "metadata": {},
   "source": [
    "### Q4. Create two strings and concatenate them to form a third string."
   ]
  },
  {
   "cell_type": "code",
   "execution_count": 99,
   "metadata": {},
   "outputs": [
    {
     "name": "stdout",
     "output_type": "stream",
     "text": [
      "i love baba\n"
     ]
    }
   ],
   "source": [
    "x=input('enter first word:')\n",
    "y=input('enter second word:')\n",
    "print(x, end=\"\")\n",
    "print(y)"
   ]
  },
  {
   "cell_type": "markdown",
   "metadata": {},
   "source": [
    "### Q5. Write a program that compares two numbers and prints whether the first number is greater, smaller, or equal to the second number."
   ]
  },
  {
   "cell_type": "code",
   "execution_count": 105,
   "metadata": {},
   "outputs": [
    {
     "name": "stdout",
     "output_type": "stream",
     "text": [
      "two numbers are equal\n"
     ]
    }
   ],
   "source": [
    "x=input('enter first number')\n",
    "y=input('enter second word:')\n",
    "if x>y: \n",
    "    print(f'{x} is greater than {y}')\n",
    "elif x<y:\n",
    "    print(f'{y} is greater than {x}')\n",
    "else:\n",
    "    print(f'two numbers are equal')"
   ]
  },
  {
   "cell_type": "markdown",
   "metadata": {},
   "source": [
    "### Q6. Write a program that takes a string as input and prints it in reverse order.\n",
    "    ahmed => demha"
   ]
  },
  {
   "cell_type": "markdown",
   "metadata": {},
   "source": []
  },
  {
   "cell_type": "code",
   "execution_count": 2,
   "metadata": {},
   "outputs": [
    {
     "name": "stdout",
     "output_type": "stream",
     "text": [
      "2eyar\n"
     ]
    }
   ],
   "source": [
    "f=list(input('enter any word to reverse'))\n",
    "f.reverse()\n",
    "f=''.join(f)\n",
    "print(f)"
   ]
  },
  {
   "cell_type": "code",
   "execution_count": 95,
   "metadata": {},
   "outputs": [
    {
     "name": "stdout",
     "output_type": "stream",
     "text": [
      "the arc length is 2.094393333333333\n"
     ]
    }
   ],
   "source": [
    "r=float(input('enter the radius of the circle'))\n",
    "theta=float(input('enter the angle of the arc in degrees'))\n",
    "area=(2*3.14159*r)*(theta/360)\n",
    "print(f\"the arc length is {area}\")"
   ]
  },
  {
   "cell_type": "markdown",
   "metadata": {},
   "source": [
    "### Q7. Write a program that takes a number as input and prints \"Positive\" if it's greater than 0, \"Negative\" if it's less than 0, and \"Zero\" if it's equal to 0."
   ]
  },
  {
   "cell_type": "code",
   "execution_count": 106,
   "metadata": {},
   "outputs": [
    {
     "name": "stdout",
     "output_type": "stream",
     "text": [
      "negative !\n"
     ]
    }
   ],
   "source": [
    "n= int(input('enter a number'))\n",
    "if n>0:\n",
    "    print('positive !')\n",
    "elif n<0:\n",
    "    print ('negative !')\n",
    "else:\n",
    "    print ('Zero!')\n"
   ]
  },
  {
   "cell_type": "markdown",
   "metadata": {},
   "source": [
    "### Q8. Write a program that converts Fahrenheit to Celsius. Take Fahrenheit as input from the user.\n",
    "    Temperature in degrees Celsius (°C) = (Temperature in degrees Fahrenheit (°F) - 32) * 5/9"
   ]
  },
  {
   "cell_type": "code",
   "execution_count": 107,
   "metadata": {},
   "outputs": [
    {
     "name": "stdout",
     "output_type": "stream",
     "text": [
      "Temprature in Celsius is equal to: 4\n"
     ]
    }
   ],
   "source": [
    "F= int(input('enter Temprature in Fahrenheit'))\n",
    "C= int((F-32)*(5/9))\n",
    "print('Temprature in Celsius is equal to:',C)"
   ]
  },
  {
   "cell_type": "markdown",
   "metadata": {},
   "source": [
    "### Q9. Write a program that takes a string as input and counts the number of characters in it.\n",
    "    ahmed => 5"
   ]
  },
  {
   "cell_type": "code",
   "execution_count": 108,
   "metadata": {},
   "outputs": [
    {
     "name": "stdout",
     "output_type": "stream",
     "text": [
      "word count is 4\n"
     ]
    }
   ],
   "source": [
    "w= input('enter a word to count it''s words')\n",
    "print(\"word count is\",len(w))\n",
    "\n"
   ]
  },
  {
   "cell_type": "markdown",
   "metadata": {},
   "source": [
    "### Q10. Write a program that takes three numbers as input and prints the maximum of those numbers."
   ]
  },
  {
   "cell_type": "code",
   "execution_count": 109,
   "metadata": {},
   "outputs": [
    {
     "name": "stdout",
     "output_type": "stream",
     "text": [
      "30\n"
     ]
    }
   ],
   "source": [
    "x= int(input('enter first number'))\n",
    "y= int(input('enter second number'))\n",
    "z= int(input('enter third number'))\n",
    "if x>y and x>z:\n",
    "    print(x)\n",
    "elif z>x and z>y:\n",
    "    print (z) \n",
    "else:\n",
    "    print (y)"
   ]
  },
  {
   "cell_type": "markdown",
   "metadata": {},
   "source": [
    "### Q11. Create two lists and concatenate them to form a third list."
   ]
  },
  {
   "cell_type": "code",
   "execution_count": null,
   "metadata": {},
   "outputs": [
    {
     "ename": "TypeError",
     "evalue": "list expected at most 1 argument, got 2",
     "output_type": "error",
     "traceback": [
      "\u001b[1;31m---------------------------------------------------------------------------\u001b[0m",
      "\u001b[1;31mTypeError\u001b[0m                                 Traceback (most recent call last)",
      "Cell \u001b[1;32mIn[54], line 3\u001b[0m\n\u001b[0;32m      1\u001b[0m li\u001b[38;5;241m=\u001b[39m \u001b[38;5;28minput\u001b[39m(\u001b[38;5;124m'\u001b[39m\u001b[38;5;124menter first list\u001b[39m\u001b[38;5;124m'\u001b[39m)\n\u001b[0;32m      2\u001b[0m li2\u001b[38;5;241m=\u001b[39m \u001b[38;5;28minput\u001b[39m(\u001b[38;5;124m'\u001b[39m\u001b[38;5;124menter second list\u001b[39m\u001b[38;5;124m'\u001b[39m)\n\u001b[1;32m----> 3\u001b[0m \u001b[38;5;28mprint\u001b[39m( \u001b[38;5;28mlist\u001b[39m(li,li2))\n",
      "\u001b[1;31mTypeError\u001b[0m: list expected at most 1 argument, got 2"
     ]
    }
   ],
   "source": [
    "x=list(input('Enter yout items seperated with space').split(''))\n"
   ]
  },
  {
   "cell_type": "markdown",
   "metadata": {},
   "source": [
    "### Q12. Write a program that takes a string as input and checks whether it's a palindrome.\n",
    "    radar, level, madam, ..."
   ]
  },
  {
   "cell_type": "code",
   "execution_count": 111,
   "metadata": {},
   "outputs": [
    {
     "name": "stdout",
     "output_type": "stream",
     "text": [
      "its not a palindrome\n"
     ]
    }
   ],
   "source": [
    "w=input('enter a word to check if it a palindrome:')\n",
    "if w==w[::-1]:\n",
    "    print('it is a palindrome')\n",
    "else:\n",
    "    print('it''s not a palindrome')\n"
   ]
  },
  {
   "cell_type": "markdown",
   "metadata": {},
   "source": [
    "### Q13. Write a program that takes three numbers as input and prints their average."
   ]
  },
  {
   "cell_type": "code",
   "execution_count": 112,
   "metadata": {},
   "outputs": [
    {
     "name": "stdout",
     "output_type": "stream",
     "text": [
      "the average is\n",
      "8.0\n"
     ]
    }
   ],
   "source": [
    "x= int(input('enter first number'))\n",
    "y= int(input('enter second number'))\n",
    "z= int(input('enter third number'))\n",
    "avg= (x+y+z)/3\n",
    "print('the average is')\n",
    "print(avg)"
   ]
  },
  {
   "cell_type": "markdown",
   "metadata": {},
   "source": [
    "### Q14. Write a program that takes two numbers as input and checks whether the first number is divisible by the second number."
   ]
  },
  {
   "cell_type": "code",
   "execution_count": 114,
   "metadata": {},
   "outputs": [
    {
     "name": "stdout",
     "output_type": "stream",
     "text": [
      "no\n"
     ]
    }
   ],
   "source": [
    "x= int(input('enter first number'))\n",
    "y= int(input('enter second number'))\n",
    "if x % y==0: \n",
    "    print ('it''s divisble !')\n",
    "else: \n",
    "    print('no')"
   ]
  },
  {
   "cell_type": "markdown",
   "metadata": {},
   "source": [
    "### Q15. Write a program that takes two numbers and an operator (+, -, *, /) as input and performs the corresponding operation."
   ]
  },
  {
   "cell_type": "code",
   "execution_count": 116,
   "metadata": {},
   "outputs": [
    {
     "name": "stdout",
     "output_type": "stream",
     "text": [
      "6.0\n"
     ]
    }
   ],
   "source": [
    "x= float(input('enter first number'))\n",
    "y= float(input('enter second number'))\n",
    "op= input('enter the operation')\n",
    "if op== '+':\n",
    "    print(x+y)\n",
    "elif op=='*':\n",
    "    print(x*y)\n",
    "elif op== '/':\n",
    "    print(x/y)\n",
    "else: \n",
    "    print(x-y)"
   ]
  },
  {
   "cell_type": "markdown",
   "metadata": {},
   "source": [
    "### Q16. Write a program that takes three numbers as input and prints the minimum of those numbers."
   ]
  },
  {
   "cell_type": "code",
   "execution_count": 117,
   "metadata": {},
   "outputs": [
    {
     "name": "stdout",
     "output_type": "stream",
     "text": [
      "0\n"
     ]
    }
   ],
   "source": [
    "x= int(input('enter first number'))\n",
    "y= int(input('enter second number'))\n",
    "z= int(input('enter third number'))\n",
    "if x<y and x<z:\n",
    "    print(x)\n",
    "elif z<x and z<y:\n",
    "    print (z) \n",
    "else:\n",
    "    print (y)"
   ]
  },
  {
   "cell_type": "markdown",
   "metadata": {},
   "source": [
    "### Q17. Write a program that takes a string as input and prints its length."
   ]
  },
  {
   "cell_type": "code",
   "execution_count": null,
   "metadata": {},
   "outputs": [
    {
     "name": "stdout",
     "output_type": "stream",
     "text": [
      "word count is\n",
      "12\n"
     ]
    }
   ],
   "source": [
    "w= input('enter a word to count it''s words')\n",
    "print(\"word count is\")\n",
    "print(len(w))"
   ]
  },
  {
   "cell_type": "markdown",
   "metadata": {},
   "source": [
    "### Q18. Create a list of numbers and write a program to find the sum of all elements in the list."
   ]
  },
  {
   "cell_type": "code",
   "execution_count": null,
   "metadata": {},
   "outputs": [],
   "source": [
    "li= list(input('enter a list').split\")\n",
    "list(li)\n",
    "print(sum(li))"
   ]
  },
  {
   "cell_type": "markdown",
   "metadata": {},
   "source": [
    "### Q19. Write a program that takes a string as input and prints it in both uppercase and lowercase."
   ]
  },
  {
   "cell_type": "markdown",
   "metadata": {},
   "source": [
    "pop meen elly ytshal "
   ]
  },
  {
   "cell_type": "markdown",
   "metadata": {},
   "source": [
    "popitem heya btsheel akher wa7ed by default "
   ]
  },
  {
   "cell_type": "code",
   "execution_count": 118,
   "metadata": {},
   "outputs": [
    {
     "name": "stdout",
     "output_type": "stream",
     "text": [
      "nosa\n",
      "NOSA\n"
     ]
    }
   ],
   "source": [
    "w= input('enter a word')\n",
    "print(w.lower())\n",
    "print(w.upper())"
   ]
  }
 ],
 "metadata": {
  "kernelspec": {
   "display_name": "Python 3",
   "language": "python",
   "name": "python3"
  },
  "language_info": {
   "codemirror_mode": {
    "name": "ipython",
    "version": 3
   },
   "file_extension": ".py",
   "mimetype": "text/x-python",
   "name": "python",
   "nbconvert_exporter": "python",
   "pygments_lexer": "ipython3",
   "version": "3.11.7"
  }
 },
 "nbformat": 4,
 "nbformat_minor": 2
}
